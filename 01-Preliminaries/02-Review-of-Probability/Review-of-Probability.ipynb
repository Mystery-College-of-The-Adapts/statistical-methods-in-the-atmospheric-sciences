{
 "cells": [
  {
   "cell_type": "code",
   "execution_count": 1,
   "metadata": {},
   "outputs": [
    {
     "data": {
      "application/javascript": [
       "IPython.notebook.set_autosave_interval(20000)"
      ]
     },
     "metadata": {},
     "output_type": "display_data"
    },
    {
     "name": "stdout",
     "output_type": "stream",
     "text": [
      "Autosaving every 20 seconds\n"
     ]
    }
   ],
   "source": [
    "%autosave 20"
   ]
  },
  {
   "cell_type": "markdown",
   "metadata": {
    "toc": "true"
   },
   "source": [
    "# Table of Contents\n",
    " <p><div class=\"lev1 toc-item\"><a href=\"#Review-of-Probability\" data-toc-modified-id=\"Review-of-Probability-1\"><span class=\"toc-item-num\">1&nbsp;&nbsp;</span>Review of Probability</a></div><div class=\"lev2 toc-item\"><a href=\"#Background\" data-toc-modified-id=\"Background-11\"><span class=\"toc-item-num\">1.1&nbsp;&nbsp;</span>Background</a></div><div class=\"lev2 toc-item\"><a href=\"#The-elements-of-Probability\" data-toc-modified-id=\"The-elements-of-Probability-12\"><span class=\"toc-item-num\">1.2&nbsp;&nbsp;</span>The elements of Probability</a></div><div class=\"lev3 toc-item\"><a href=\"#Events\" data-toc-modified-id=\"Events-121\"><span class=\"toc-item-num\">1.2.1&nbsp;&nbsp;</span>Events</a></div><div class=\"lev3 toc-item\"><a href=\"#The-Sample-Space\" data-toc-modified-id=\"The-Sample-Space-122\"><span class=\"toc-item-num\">1.2.2&nbsp;&nbsp;</span>The Sample Space</a></div><div class=\"lev3 toc-item\"><a href=\"#Axioms-of-Probability\" data-toc-modified-id=\"Axioms-of-Probability-123\"><span class=\"toc-item-num\">1.2.3&nbsp;&nbsp;</span>Axioms of Probability</a></div><div class=\"lev2 toc-item\"><a href=\"#The-Meaning-of-Probability\" data-toc-modified-id=\"The-Meaning-of-Probability-13\"><span class=\"toc-item-num\">1.3&nbsp;&nbsp;</span>The Meaning of Probability</a></div><div class=\"lev3 toc-item\"><a href=\"#Frequency-Interpretation\" data-toc-modified-id=\"Frequency-Interpretation-131\"><span class=\"toc-item-num\">1.3.1&nbsp;&nbsp;</span>Frequency Interpretation</a></div><div class=\"lev3 toc-item\"><a href=\"#Bayesian-(Subjective)-Interpretation\" data-toc-modified-id=\"Bayesian-(Subjective)-Interpretation-132\"><span class=\"toc-item-num\">1.3.2&nbsp;&nbsp;</span>Bayesian (Subjective) Interpretation</a></div><div class=\"lev2 toc-item\"><a href=\"#Some-Properties-of-Probability\" data-toc-modified-id=\"Some-Properties-of-Probability-14\"><span class=\"toc-item-num\">1.4&nbsp;&nbsp;</span>Some Properties of Probability</a></div><div class=\"lev3 toc-item\"><a href=\"#Domain,-Subsets,-Complements,-and-Unions\" data-toc-modified-id=\"Domain,-Subsets,-Complements,-and-Unions-141\"><span class=\"toc-item-num\">1.4.1&nbsp;&nbsp;</span>Domain, Subsets, Complements, and Unions</a></div><div class=\"lev3 toc-item\"><a href=\"#DeMorgan's-Laws\" data-toc-modified-id=\"DeMorgan's-Laws-142\"><span class=\"toc-item-num\">1.4.2&nbsp;&nbsp;</span>DeMorgan's Laws</a></div><div class=\"lev3 toc-item\"><a href=\"#Conditional-Probability\" data-toc-modified-id=\"Conditional-Probability-143\"><span class=\"toc-item-num\">1.4.3&nbsp;&nbsp;</span>Conditional Probability</a></div><div class=\"lev3 toc-item\"><a href=\"#Independence\" data-toc-modified-id=\"Independence-144\"><span class=\"toc-item-num\">1.4.4&nbsp;&nbsp;</span>Independence</a></div><div class=\"lev3 toc-item\"><a href=\"#Law-of-Total-Probability\" data-toc-modified-id=\"Law-of-Total-Probability-145\"><span class=\"toc-item-num\">1.4.5&nbsp;&nbsp;</span>Law of Total Probability</a></div><div class=\"lev3 toc-item\"><a href=\"#Bayes'-Theorem\" data-toc-modified-id=\"Bayes'-Theorem-146\"><span class=\"toc-item-num\">1.4.6&nbsp;&nbsp;</span>Bayes' Theorem</a></div><div class=\"lev2 toc-item\"><a href=\"#Exercises\" data-toc-modified-id=\"Exercises-15\"><span class=\"toc-item-num\">1.5&nbsp;&nbsp;</span>Exercises</a></div>"
   ]
  },
  {
   "cell_type": "markdown",
   "metadata": {},
   "source": [
    "# Review of Probability"
   ]
  },
  {
   "cell_type": "markdown",
   "metadata": {},
   "source": [
    "## Background\n"
   ]
  },
  {
   "cell_type": "markdown",
   "metadata": {},
   "source": [
    "- Our uncertainty about the atmosphere, or about any other system for that matter, is of different degrees in different instances. For example, you cannot be completely certain whether or not rain will occur at your home tomorrow, or whether the average temperature next month will be greater or less than the average temperature this month. \n",
    "- It is not sufficient, or even particularly informative, to say that an event is uncertain. Rather, we are faced with the problem of expressing or characterizing degrees of uncertainty.\n",
    "- A possible approach is to use qualitative descriptors such as \"likely\", \"unlikely\", \"possible\", or \"chance of. \n",
    "- It is generally preferable to express uncertainty quantitatively, and this is done using **probabilities**.\n"
   ]
  },
  {
   "cell_type": "markdown",
   "metadata": {
    "collapsed": true
   },
   "source": [
    "## The elements of Probability\n",
    "\n",
    "### Events"
   ]
  },
  {
   "cell_type": "markdown",
   "metadata": {},
   "source": [
    "- **An event** is a set, or class, or group of possible uncertain outcomes.\n",
    "- Events can be of two kinds:\n",
    "    - **A compound event** can be decomposed into two or more (sub)events.\n",
    "    - **An elementary event** cannot.\n",
    "    - E.g: Rolling an ordinary six-sided die, the event **\"an even number of spots comes up\"** is a compound event. The event **\"six spots come up\"** is an elementary event."
   ]
  },
  {
   "cell_type": "markdown",
   "metadata": {},
   "source": [
    "### The Sample Space"
   ]
  },
  {
   "cell_type": "markdown",
   "metadata": {},
   "source": [
    "- **The sample space** or **event space** is the set of all possible elementary events. \n",
    "- The relationships among events in a sample space can be represented geometrically, using **venn Diagram**.\n",
    "![](https://i.imgur.com/eihdzwg.png)"
   ]
  },
  {
   "cell_type": "markdown",
   "metadata": {},
   "source": [
    "### Axioms of Probability"
   ]
  },
  {
   "cell_type": "markdown",
   "metadata": {},
   "source": [
    "Formal mathematical definitions of the axioms exist, but they can be stated qualitatively as:\n",
    "- The probability of any event is non negative.\n",
    "- The probability of the compound event **S** is 1.\n",
    "- The probability that one or the other of two mutually exclusive events occurs is the sum of their two individual probabilities."
   ]
  },
  {
   "cell_type": "markdown",
   "metadata": {},
   "source": [
    "## The Meaning of Probability"
   ]
  },
  {
   "cell_type": "markdown",
   "metadata": {},
   "source": [
    "### Frequency Interpretation"
   ]
  },
  {
   "cell_type": "markdown",
   "metadata": {},
   "source": [
    "- The **frequency interpretation** is the mainstream view of probability. In this view, the probability of an event is exactly its long-run relative frequency.\n",
    "    - Its the ratio of the number of occurences of event ${E}$ to the number of opportunities for ${E}$ to have occurred converges to the probability of ${E}$, as the number of opportunities increases."
   ]
  },
  {
   "cell_type": "markdown",
   "metadata": {},
   "source": [
    "### Bayesian (Subjective) Interpretation"
   ]
  },
  {
   "cell_type": "markdown",
   "metadata": {},
   "source": [
    "- Strictly speaking, employing the Frequency view of probability requires a long series of identical trials.\n",
    "- For estimating climatological probabilities from historical weather data this requirement presents essentially no problem.\n",
    "- **The subjective interpretation** is that probability represents the degree of belief, or quantified judgment, of a particular individual about the occurrence of an uncertain event.\n",
    "- Two individuals can have different subjective probabilities for an event without either necessarily being wrong, and often such differences in judgment are attributable to differences in information and/or experience.\n",
    "- However, that different individuals may have different subjective probabilities for the same event does not mean that an individual is free to choose any numbers and call them probabilities.\n",
    "- The subjective probabilities must be consistent with the axioms of probability, and thus with the mathematical properties of probability implied by the axioms."
   ]
  },
  {
   "cell_type": "markdown",
   "metadata": {},
   "source": [
    "## Some Properties of Probability"
   ]
  },
  {
   "cell_type": "markdown",
   "metadata": {},
   "source": [
    "### Domain, Subsets, Complements, and Unions"
   ]
  },
  {
   "cell_type": "markdown",
   "metadata": {},
   "source": [
    "Together, the first and second axioms imply that the probability of any event will be between zero and one, inclusive:\n",
    "\n",
    "$$0\\leq Pr\\left \\{E  \\right \\}\\leq 1$$\n",
    "\n",
    "- If $Pr\\left \\{E \\right \\}=0$ the event will not occur.\n",
    "- If $ Pr\\left \\{E \\right\\}=1$ the event is absolutely sure to occur.\n",
    "- if event $\\left \\{E_2 \\right \\}$ necessarily occurs whenever event $\\left \\{E_1 \\right \\}$ occurs, $\\left \\{E_1 \\right \\}$ is said to be a **subset** of $\\left \\{E_2 \\right \\}$.\n",
    "- For example, $\\left \\{E_1 \\right \\}$ and $\\left \\{E_2 \\right \\}$ might denote occurrence of frozen precipitation and occurrence of precipitation of any form, respectively. In this case the third axiom implies\n",
    "\n",
    "$$Pr\\left \\{E_1 \\right \\}\\leq Pr\\left \\{E_2 \\right \\}$$"
   ]
  },
  {
   "cell_type": "markdown",
   "metadata": {},
   "source": [
    "**The complement** of an event $\\left \\{E\\right \\}$ is the (generally compound) event that $\\left \\{E\\right \\}$ does not occur.\n",
    "- For example, the complement of the event “liquid and frozen precipitation” is the compoundevent “either no precipitation, or liquid precipitation only, or frozen precipitation only.” Together the second and third axioms imply\n",
    "\n",
    "\n",
    "$$Pr\\left \\{ E^c \\right \\}=1 - Pr\\left \\{ E \\right \\}$$"
   ]
  },
  {
   "cell_type": "markdown",
   "metadata": {},
   "source": [
    "**The Union** of two events is the compound event that one or the other, or both of the events occur. \n",
    "\n",
    "$$Pr\\left \\{ E_1\\cup E_2  \\right \\}=Pr\\left \\{ E_1 \\ \\text{or}\\ E_2 \\ \\text{or} \\ both\\right \\}=Pr\\left \\{ E_1 \\right \\}+Pr\\left \\{ E_2 \\right \\}-Pr\\left \\{ E_1 \\cap E_2\\right \\} $$"
   ]
  },
  {
   "cell_type": "markdown",
   "metadata": {},
   "source": [
    "### DeMorgan's Laws"
   ]
  },
  {
   "cell_type": "markdown",
   "metadata": {},
   "source": [
    "- Manipulating probability statements involving complements of unions or intersections, or statements involving intersections of unions or complements, is facilitated by the two relationships known as **DeMorgan's Laws**\n",
    "\n",
    "$$Pr\\left \\{ \\left ( A \\cup B \\right )^c \\right \\}=Pr\\left \\{ A^c \\cap B^c\\right \\}$$\n",
    "$$Pr\\left \\{ \\left ( A \\cap B \\right )^c \\right \\}=Pr\\left \\{ A^c \\cup B^c\\right \\}$$"
   ]
  },
  {
   "cell_type": "markdown",
   "metadata": {},
   "source": [
    "### Conditional Probability"
   ]
  },
  {
   "cell_type": "markdown",
   "metadata": {},
   "source": [
    "- It is often the case that we are interested in the probability of an event, given that some other event has occurred or will occur. \n",
    "- For example, the probability of freezing rain, given that precipitation occurs, may be of interest; or perhaps we need to know the probability of coastal wind speeds above some threshold, given that a hurricane makes landfall nearby.\n",
    "- These are examples of **conditional probabilities**. \n",
    "- The event that must be **given** is called the **conditioning event**.\n",
    "\n",
    "$$Pr\\left \\{ E_1|E_2 \\right \\}=Pr\\left \\{ E_1 \\ \\text{given that} \\ E_2 \\ \\text{has occurred or will occur} \\right \\}$$\n",
    "\n",
    "$$Pr\\left \\{ E_1|E_2 \\right \\}= \\frac{Pr\\left \\{ E_1 \\cap E_2 \\right \\}}{Pr\\left \\{ E_2 \\right \\}}$$\n",
    "provided that the probability of the conditioning event is not zero.\n",
    "\n",
    "![](https://i.imgur.com/ojEtlML.png)"
   ]
  },
  {
   "cell_type": "markdown",
   "metadata": {},
   "source": [
    "### Independence"
   ]
  },
  {
   "cell_type": "markdown",
   "metadata": {},
   "source": [
    "Rearranging the definition of conditional probability, yields the form of this expression called the **Multiplicative Law of Probability:**\n",
    "$$Pr\\left \\{ E_1 \\cap E_2 \\right \\}=Pr\\left \\{ E_1|E_2 \\right \\}{Pr\\left \\{ E_2 \\right \\}}=Pr\\left \\{ E_2|E_1 \\right \\}{Pr\\left \\{ E_1 \\right \\}}$$\n",
    "\n",
    "- Two events are said to be **independent** if the occurrence or nonoccurrence of one does not affect the probability of the other.\n",
    "- Independence of events makes the calculation of joint probabilities particularly easy, since the multiplicative law then reduces to\n",
    "$$Pr\\left \\{ E_1 \\cap E_2 \\right \\}=Pr\\left \\{ E_2 \\right \\}{Pr\\left \\{ E_1 \\right \\}}$$"
   ]
  },
  {
   "cell_type": "markdown",
   "metadata": {},
   "source": [
    "### Law of Total Probability"
   ]
  },
  {
   "cell_type": "markdown",
   "metadata": {},
   "source": [
    "- Sometimes probabilities must be computed indirectly because of limited information. One relationship that can be useful in such situations is the **Law of Total Probability**.\n",
    "\n",
    "If $E_1,E_2,E_3,⋯$ is a partition of the sample space $S$, then for any event $A$ we have\n",
    "\n",
    "$$Pr\\left \\{ A \\right \\}=\\sum_{i=1}^{n}Pr\\left \\{ A \\cap E_i \\right \\}=\\sum_{i=1}^{n}Pr\\left \\{ A|E_i \\right \\}Pr\\left \\{ E_i \\right \\}$$"
   ]
  },
  {
   "cell_type": "markdown",
   "metadata": {},
   "source": [
    "### Bayes' Theorem"
   ]
  },
  {
   "cell_type": "markdown",
   "metadata": {},
   "source": [
    "- **Bayes' Theorem** is an interesting combination of the **Multiplicative Law** and the **Law of Total Probabilities**.\n",
    "- Bayes' Theorem is used to **invert** conditional probabilities. That is, if $Pr\\left \\{ E_1|E_2 \\right \\}$ is known, Bayes' Theorem may be used to compute $Pr\\left \\{ E_2|E_1 \\right \\}$ \n",
    "\n",
    "$$Pr\\left \\{ E_i|A \\right \\}=\\frac{Pr\\left \\{ A|E_i \\right \\}Pr\\left \\{ E_i \\right \\}}{Pr\\left \\{ A \\right \\}}= \\frac{Pr\\left \\{ A|E_i \\right \\}Pr\\left \\{ E_i \\right \\}}{\\sum_{j=1}^{n}Pr\\left \\{ A|E_j \\right \\}Pr\\left \\{ E_j \\right \\}}$$"
   ]
  },
  {
   "cell_type": "markdown",
   "metadata": {},
   "source": [
    "## Exercises"
   ]
  },
  {
   "cell_type": "code",
   "execution_count": null,
   "metadata": {
    "collapsed": true
   },
   "outputs": [],
   "source": []
  },
  {
   "cell_type": "code",
   "execution_count": null,
   "metadata": {
    "collapsed": true
   },
   "outputs": [],
   "source": []
  }
 ],
 "metadata": {
  "kernelspec": {
   "display_name": "Python 3",
   "language": "python",
   "name": "python3"
  },
  "language_info": {
   "codemirror_mode": {
    "name": "ipython",
    "version": 3
   },
   "file_extension": ".py",
   "mimetype": "text/x-python",
   "name": "python",
   "nbconvert_exporter": "python",
   "pygments_lexer": "ipython3",
   "version": "3.6.1"
  },
  "toc": {
   "colors": {
    "hover_highlight": "#DAA520",
    "navigate_num": "#000000",
    "navigate_text": "#333333",
    "running_highlight": "#FF0000",
    "selected_highlight": "#FFD700",
    "sidebar_border": "#EEEEEE",
    "wrapper_background": "#FFFFFF"
   },
   "moveMenuLeft": true,
   "nav_menu": {
    "height": "49px",
    "width": "252px"
   },
   "navigate_menu": true,
   "number_sections": true,
   "sideBar": true,
   "threshold": 4,
   "toc_cell": true,
   "toc_section_display": "block",
   "toc_window_display": true,
   "widenNotebook": false
  }
 },
 "nbformat": 4,
 "nbformat_minor": 2
}
