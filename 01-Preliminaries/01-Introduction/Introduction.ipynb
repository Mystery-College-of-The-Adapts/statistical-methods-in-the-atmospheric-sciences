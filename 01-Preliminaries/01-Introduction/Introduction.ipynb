{
 "cells": [
  {
   "cell_type": "markdown",
   "metadata": {},
   "source": [
    "<small ><i>This notebook was put together by <a href=\"https://andersy005.github.io/\"> Anderson Banihirwe </a></i></small>"
   ]
  },
  {
   "cell_type": "markdown",
   "metadata": {
    "toc": "true"
   },
   "source": [
    "# Table of Contents\n",
    " <p><div class=\"lev2 toc-item\"><a href=\"#What-Is-Statistics?\" data-toc-modified-id=\"What-Is-Statistics?-01\"><span class=\"toc-item-num\">0.1&nbsp;&nbsp;</span>What Is Statistics?</a></div><div class=\"lev2 toc-item\"><a href=\"#Descriptive-and-Inferential-Statistics\" data-toc-modified-id=\"Descriptive-and-Inferential-Statistics-02\"><span class=\"toc-item-num\">0.2&nbsp;&nbsp;</span>Descriptive and Inferential Statistics</a></div><div class=\"lev2 toc-item\"><a href=\"#Uncertainty-about-the-Atmosphere\" data-toc-modified-id=\"Uncertainty-about-the-Atmosphere-03\"><span class=\"toc-item-num\">0.3&nbsp;&nbsp;</span>Uncertainty about the Atmosphere</a></div>"
   ]
  },
  {
   "cell_type": "markdown",
   "metadata": {},
   "source": [
    "<p id=\"date\"></p>"
   ]
  },
  {
   "cell_type": "markdown",
   "metadata": {},
   "source": [
    "## What Is Statistics?"
   ]
  },
  {
   "cell_type": "markdown",
   "metadata": {},
   "source": [
    "> Statistics is the discipline concerned with study of **variability**, with the study of **uncertainty**, and with the study of **decision-making** in the face of uncertainty.\n",
    "\n",
    "- It should not be surprising, then, that statistics has many roles in the atmospheric sciences, since it is the uncertainty about atmospheric behavior that makes the atmosphere interesting.\n",
    "- For example: many people are fascinated by weather forecasting, which remains interestitng precisely because of the uncertainty that is intrinsic to the problem."
   ]
  },
  {
   "cell_type": "markdown",
   "metadata": {},
   "source": [
    " ## Descriptive and Inferential Statistics"
   ]
  },
  {
   "cell_type": "markdown",
   "metadata": {},
   "source": [
    "Statistics can be divided into two broad areas:\n",
    "- descriptive statistics\n",
    "- inferential statistics\n",
    "Both are relevant to the atmospheric sciences.\n",
    "\n",
    "**Descriptive Statistics:**\n",
    "- Pertains to the organization and summarization of data.\n",
    "- The atmospheric sciences are awash with data.\n",
    "\n",
    "**Inferential Statistics:**\n",
    "- Traditionally understood as consisting of methods and procedures used to draw conclusions regarding underlying processes that generate the data.\n",
    "\n",
    "Our Physical understanding of atmospheric phenomena comes in part through statistical manipulation and analysis of data. In the context of atmospheric sciences, it is probably sensible to interpret inferential statistics a bit more broadly as well as to include statistical weather and climate forecasting."
   ]
  },
  {
   "cell_type": "markdown",
   "metadata": {},
   "source": [
    "## Uncertainty about the Atmosphere"
   ]
  },
  {
   "cell_type": "markdown",
   "metadata": {},
   "source": [
    "Underlying both descriptive and inferential statistics is the notion of uncertainty. If the atmospheric processes were constant, or strictly periodic, describing them mathematically would be easy. Weather forecasting would be so easy, and meteorology would be boring. The variations and fluctuations exhibited by the atmosphere are irregular. \n",
    "- This uncertainty is the driving force behind the collection and analysis of large data sets.\n",
    "- It also implies that weather forecasts are inescapably uncertain.\n",
    "- In order to deal quantitatively with uncertainty it is necessary to employ the tools of probability ( the mathematical language of uncertainty).\n",
    "\n",
    "\n",
    "It is worth noting that randomness is not a state of complete unpredictability, or **no information**. Rather, a random process is not fully and precisely predictable or determinable, by may well be partially so. For example: the amount of precipitation that will occur tomorrow where you live is a random quantity, not known to you today. However, a simple statistical analysis of climatological precipitation records at your location would yield relative frequencies of precipitation amounts providing substantially more information about tomorrow's precipitation at your location than I have as I sit writing this sentence.\n",
    "\n",
    "- Reducing uncertainty about random meteorological events is the purpose of weather forecasts.\n",
    "- Statistical methods allow estimation of the precision of the predictions, which can itself be valuable information."
   ]
  }
 ],
 "metadata": {
  "kernelspec": {
   "display_name": "Python 3",
   "language": "python",
   "name": "python3"
  },
  "language_info": {
   "codemirror_mode": {
    "name": "ipython",
    "version": 3
   },
   "file_extension": ".py",
   "mimetype": "text/x-python",
   "name": "python",
   "nbconvert_exporter": "python",
   "pygments_lexer": "ipython3",
   "version": "3.6.1"
  },
  "toc": {
   "colors": {
    "hover_highlight": "#DAA520",
    "navigate_num": "#000000",
    "navigate_text": "#333333",
    "running_highlight": "#FF0000",
    "selected_highlight": "#FFD700",
    "sidebar_border": "#EEEEEE",
    "wrapper_background": "#FFFFFF"
   },
   "moveMenuLeft": true,
   "nav_menu": {
    "height": "68px",
    "width": "252px"
   },
   "navigate_menu": true,
   "number_sections": false,
   "sideBar": true,
   "threshold": 4,
   "toc_cell": true,
   "toc_section_display": "block",
   "toc_window_display": false,
   "widenNotebook": false
  }
 },
 "nbformat": 4,
 "nbformat_minor": 2
}
